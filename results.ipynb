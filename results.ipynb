{
  "cells": [
    {
      "cell_type": "markdown",
      "source": [
        "### Test the accuracy of the trained model on the final test set\n",
        "\n> test dataset is downloadable at [this link](https://storage.googleapis.com/google-code-archive-downloads/v2/code.google.com/language-detection/europarl-test.zip)"
      ],
      "metadata": {}
    },
    {
      "cell_type": "code",
      "source": [
        "import pandas as pd\n",
        "import numpy as np"
      ],
      "outputs": [],
      "execution_count": 1,
      "metadata": {
        "collapsed": false,
        "outputHidden": false,
        "inputHidden": false
      }
    },
    {
      "cell_type": "code",
      "source": [
        "def normalize_text(row):\n",
        "    \"\"\"make text exmaple \"\"\"\n",
        "    label = '__label__' + str(row['lang'])\n",
        "    txt = str(row['text'])\n",
        "    \n",
        "    return ' '.join(( label + ' , ' + txt ).split())"
      ],
      "outputs": [],
      "execution_count": 2,
      "metadata": {
        "collapsed": false,
        "outputHidden": false,
        "inputHidden": false
      }
    },
    {
      "cell_type": "code",
      "source": [
        "# first lets load the test dataset\n",
        "test = pd.read_csv('data/europarl.test', sep='\\t', names=['lang', 'text'])\n",
        "\n",
        "# next lets normalize the text in the test dataset so it conform with `fastText` format\n",
        "test['normalized'] = test.apply(lambda row: normalize_text(row), axis=1)\n",
        "\n",
        "# finally lets shuffle the examples and save the final test dataset\n",
        "test = test.reindex(np.random.permutation(test.index)).reset_index(drop=True)\n",
        "np.savetxt('data/europarl_normalized.test', test['normalized'].values, fmt='%s')"
      ],
      "outputs": [],
      "execution_count": 3,
      "metadata": {
        "collapsed": false,
        "outputHidden": false,
        "inputHidden": false
      }
    },
    {
      "cell_type": "markdown",
      "source": [
        "Next, lets load the trained model and test its accuracy on the test dataset that we just prepared"
      ],
      "metadata": {}
    },
    {
      "cell_type": "code",
      "source": [
        "%%bash\n",
        "MODEL=model/europarl.bin\n",
        "TEST=data/europarl_normalized.test\n",
        "\n./fastText/fasttext test $MODEL $TEST"
      ],
      "outputs": [
        {
          "output_type": "stream",
          "name": "stdout",
          "text": [
            "P@1: 0.981\n",
            "Number of examples: 20828\n"
          ]
        }
      ],
      "execution_count": 6,
      "metadata": {
        "collapsed": false,
        "outputHidden": false,
        "inputHidden": false
      }
    },
    {
      "cell_type": "markdown",
      "source": [
        "Yay! 98.1% accuracy on the test dataset, while on the validation set we scored 98.8% that makes our model perfectly \"good\" enough to use in production :) "
      ],
      "metadata": {}
    },
    {
      "cell_type": "markdown",
      "source": [
        "> Big thanks to David Tedaldi for reminding me about this :)"
      ],
      "metadata": {}
    }
  ],
  "metadata": {
    "kernelspec": {
      "name": "python2",
      "language": "python",
      "display_name": "Python 2"
    },
    "kernel_info": {
      "name": "python2"
    },
    "language_info": {
      "mimetype": "text/x-python",
      "nbconvert_exporter": "python",
      "name": "python",
      "pygments_lexer": "ipython2",
      "version": "2.7.13",
      "file_extension": ".py",
      "codemirror_mode": {
        "version": 2,
        "name": "ipython"
      }
    },
    "nteract": {
      "version": "0.4.3"
    }
  },
  "nbformat": 4,
  "nbformat_minor": 4
}